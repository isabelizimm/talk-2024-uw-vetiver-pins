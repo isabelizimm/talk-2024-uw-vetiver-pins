{
 "cells": [
  {
   "cell_type": "markdown",
   "metadata": {},
   "source": [
    "# MLOps with `vetiver`\n",
    "\n",
    "## Build a model\n",
    "Data scientists can still use the tools they are most comfortable with for the bulk of their workflow."
   ]
  },
  {
   "cell_type": "code",
   "execution_count": null,
   "metadata": {},
   "outputs": [],
   "source": [
    "import pandas as pd\n",
    "import numpy as np\n",
    "from sklearn import model_selection, preprocessing, pipeline\n",
    "from sklearn.ensemble import RandomForestRegressor\n",
    "import rsconnect\n",
    "import vetiver\n",
    "from vetiver import vetiver_pin_write, vetiver_endpoint\n",
    "\n",
    "import os\n",
    "from dotenv import load_dotenv, find_dotenv\n",
    "load_dotenv(find_dotenv())\n",
    "\n",
    "api_key = os.getenv(\"CONNECT_API_KEY\")\n",
    "rsc_url = os.getenv(\"CONNECT_SERVER\")\n",
    "np.random.seed(500)"
   ]
  },
  {
   "cell_type": "markdown",
   "metadata": {},
   "source": [
    "We can read in our data, and fit a pipeline that has both the preprocessing steps and the model."
   ]
  },
  {
   "cell_type": "code",
   "execution_count": null,
   "metadata": {},
   "outputs": [],
   "source": [
    "raw = pd.read_csv('https://raw.githubusercontent.com/rfordatascience/tidytuesday/master/data/2021/2021-03-02/youtube.csv')\n",
    "df = pd.DataFrame(raw)"
   ]
  },
  {
   "cell_type": "code",
   "execution_count": null,
   "metadata": {},
   "outputs": [],
   "source": [
    "df = df[[\"like_count\", \"funny\", \"show_product_quickly\", \"patriotic\", \\\n",
    "    \"celebrity\", \"danger\", \"animals\"]].dropna()\n",
    "X, y = df.iloc[:,1:],df['like_count']\n",
    "X_train, X_test, y_train, y_test = model_selection.train_test_split(X, y,test_size=0.2)\n",
    "\n",
    "le = preprocessing.OrdinalEncoder().fit(X)\n",
    "rf = RandomForestRegressor().fit(le.transform(X_train), y_train)"
   ]
  },
  {
   "cell_type": "code",
   "execution_count": null,
   "metadata": {},
   "outputs": [],
   "source": [
    "rf_pipe = pipeline.Pipeline([('label_encoder',le), ('random_forest', rf)])"
   ]
  },
  {
   "cell_type": "markdown",
   "metadata": {},
   "source": [
    "## Version a model\n",
    "\n",
    "Users first create a deployable model object, `VetiverModel()`. This holds all the pieces necessary to deploy the model later.\n",
    "\n",
    "*In R, you saw the equivalent, `vetiver_model()`.*"
   ]
  },
  {
   "cell_type": "code",
   "execution_count": null,
   "metadata": {},
   "outputs": [],
   "source": [
    "v = vetiver.VetiverModel(\n",
    "    rf_pipe, \n",
    "    prototype_data=X_train, \n",
    "    model_name = \"isabel.zimmerman/superbowl_rf\"\n",
    ")"
   ]
  },
  {
   "cell_type": "code",
   "execution_count": null,
   "metadata": {},
   "outputs": [],
   "source": [
    "import pins \n",
    "board = pins.board_connect(allow_pickle_read=True)\n",
    "\n",
    "vetiver_pin_write(board, v)"
   ]
  },
  {
   "cell_type": "code",
   "execution_count": null,
   "metadata": {},
   "outputs": [],
   "source": [
    "vetiver.model_card()"
   ]
  },
  {
   "cell_type": "markdown",
   "metadata": {},
   "source": [
    "## Deploy a model\n",
    "Next, intialize the API endpoint with `VetiverAPI()`. To run the API locally, use `.run()`\n",
    "\n",
    "*In R, you saw the equivalents, `vetiver_api()` and `pr_run()`.*"
   ]
  },
  {
   "cell_type": "code",
   "execution_count": null,
   "metadata": {},
   "outputs": [],
   "source": [
    "app = vetiver.VetiverAPI(v)\n",
    "app.run()"
   ]
  },
  {
   "cell_type": "markdown",
   "metadata": {},
   "source": [
    "This is a great start to debug my API, but my end goal is to *NOT* run my model on my personal machine. We can instead deploy to a remote server, such as RStudio Connect. This will involve setting up a connection with the server and deploying our pinned model to RSConnect."
   ]
  },
  {
   "cell_type": "markdown",
   "metadata": {},
   "source": [
    "We can deploy our model, which is strongly linked to the version we just pinned above. Note: this model is already deployed, so no need to run this chunk again, unless we want to update our model."
   ]
  },
  {
   "cell_type": "code",
   "execution_count": null,
   "metadata": {},
   "outputs": [],
   "source": [
    "connect_server = rsconnect.api.RSConnectServer(url = rsc_url, api_key = api_key)\n",
    "\n",
    "# vetiver.deploy_rsconnect(\n",
    "#     connect_server = connect_server, \n",
    "#     board = board, \n",
    "#     pin_name = \"isabel.zimmerman/superbowl_rf\"\n",
    "#     )"
   ]
  },
  {
   "cell_type": "markdown",
   "metadata": {},
   "source": [
    "With the model deployed, we can interact with the API endpoint as if it were a model in memory."
   ]
  },
  {
   "cell_type": "code",
   "execution_count": null,
   "metadata": {},
   "outputs": [],
   "source": [
    "connect_endpoint = vetiver_endpoint(\"https://colorado.posit.co/rsc/superbowl_vetiver_python/predict\")\n",
    "\n",
    "response = vetiver.predict(data = X_test.head(5), endpoint = connect_endpoint)\n",
    "response"
   ]
  },
  {
   "cell_type": "markdown",
   "metadata": {},
   "source": [
    "## Monitoring\n",
    "\n",
    "In both R and Python, vetiver offers helper functions `compute_metrics`, `plot_metrics`, and `pin_metrics` along with a template dashboard to show you monitoring capabilities."
   ]
  },
  {
   "cell_type": "code",
   "execution_count": null,
   "metadata": {},
   "outputs": [],
   "source": [
    "vetiver.monitoring_dashboard()"
   ]
  },
  {
   "cell_type": "markdown",
   "metadata": {},
   "source": []
  }
 ],
 "metadata": {
  "interpreter": {
   "hash": "974018313955b4988b16ea215671657307c8736770f13695d4ded4c5899ccb5a"
  },
  "kernelspec": {
   "display_name": "Python 3.9.11 64-bit ('pydemo')",
   "language": "python",
   "name": "python3"
  },
  "language_info": {
   "codemirror_mode": {
    "name": "ipython",
    "version": 3
   },
   "file_extension": ".py",
   "mimetype": "text/x-python",
   "name": "python",
   "nbconvert_exporter": "python",
   "pygments_lexer": "ipython3",
   "version": "3.10.7"
  },
  "orig_nbformat": 4
 },
 "nbformat": 4,
 "nbformat_minor": 2
}
