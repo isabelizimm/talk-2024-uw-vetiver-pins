{
 "cells": [
  {
   "cell_type": "markdown",
   "metadata": {},
   "source": [
    "# MLOps with `vetiver`\n",
    "\n",
    "## Build a model\n",
    "Data scientists can still use the tools they are most comfortable with for the bulk of their workflow."
   ]
  },
  {
   "cell_type": "code",
   "execution_count": 1,
   "metadata": {},
   "outputs": [],
   "source": [
    "import pandas as pd\n",
    "import numpy as np\n",
    "from sklearn import model_selection, preprocessing, pipeline\n",
    "from sklearn.ensemble import RandomForestRegressor\n",
    "import rsconnect\n",
    "import vetiver\n",
    "from vetiver import vetiver_pin_write, vetiver_endpoint\n",
    "\n",
    "import os\n",
    "from dotenv import load_dotenv, find_dotenv\n",
    "load_dotenv(find_dotenv())\n",
    "\n",
    "api_key = os.getenv(\"CONNECT_API_KEY\")\n",
    "rsc_url = os.getenv(\"CONNECT_SERVER\")\n",
    "np.random.seed(500)"
   ]
  },
  {
   "cell_type": "markdown",
   "metadata": {},
   "source": [
    "We can read in our data, and fit a pipeline that has both the preprocessing steps and the model."
   ]
  },
  {
   "cell_type": "code",
   "execution_count": 2,
   "metadata": {},
   "outputs": [],
   "source": [
    "raw = pd.read_csv('https://raw.githubusercontent.com/rfordatascience/tidytuesday/master/data/2021/2021-03-02/youtube.csv')\n",
    "df = pd.DataFrame(raw)"
   ]
  },
  {
   "cell_type": "code",
   "execution_count": 3,
   "metadata": {},
   "outputs": [],
   "source": [
    "df = df[[\"like_count\", \"funny\", \"show_product_quickly\", \"patriotic\", \\\n",
    "    \"celebrity\", \"danger\", \"animals\"]].dropna()\n",
    "X, y = df.iloc[:,1:],df['like_count']\n",
    "X_train, X_test, y_train, y_test = model_selection.train_test_split(X, y,test_size=0.2)\n",
    "\n",
    "le = preprocessing.OrdinalEncoder().fit(X)\n",
    "rf = RandomForestRegressor().fit(le.transform(X_train), y_train)"
   ]
  },
  {
   "cell_type": "code",
   "execution_count": 4,
   "metadata": {},
   "outputs": [],
   "source": [
    "rf_pipe = pipeline.Pipeline([('label_encoder',le), ('random_forest', rf)])"
   ]
  },
  {
   "cell_type": "markdown",
   "metadata": {},
   "source": [
    "## Version a model\n",
    "\n",
    "Users first create a deployable model object, `VetiverModel()`. This holds all the pieces necessary to deploy the model later.\n",
    "\n",
    "*In R, you saw the equivalent, `vetiver_model()`.*"
   ]
  },
  {
   "cell_type": "code",
   "execution_count": 6,
   "metadata": {},
   "outputs": [],
   "source": [
    "v = vetiver.VetiverModel(\n",
    "    rf_pipe, \n",
    "    prototype_data=X_train, \n",
    "    model_name = \"isabel.zimmerman/superbowl_rf\"\n",
    ")"
   ]
  },
  {
   "cell_type": "code",
   "execution_count": 7,
   "metadata": {},
   "outputs": [
    {
     "name": "stderr",
     "output_type": "stream",
     "text": [
      "Model Cards provide a framework for transparent, responsible reporting. \n",
      " Use the vetiver `.qmd` Quarto template as a place to start, \n",
      " with vetiver.model_card()\n",
      "Writing pin:\n",
      "Name: 'isabel.zimmerman/superbowl_rf'\n",
      "Version: 20240116T191309Z-30745\n"
     ]
    }
   ],
   "source": [
    "import pins \n",
    "board = pins.board_connect(allow_pickle_read=True)\n",
    "\n",
    "vetiver_pin_write(board, v)"
   ]
  },
  {
   "cell_type": "code",
   "execution_count": 16,
   "metadata": {},
   "outputs": [
    {
     "data": {
      "text/plain": [
       "'./model_card.qmd'"
      ]
     },
     "execution_count": 16,
     "metadata": {},
     "output_type": "execute_result"
    }
   ],
   "source": [
    "vetiver.model_card()"
   ]
  },
  {
   "cell_type": "markdown",
   "metadata": {},
   "source": [
    "## Deploy a model\n",
    "Next, intialize the API endpoint with `VetiverAPI()`. To run the API locally, use `.run()`\n",
    "\n",
    "*In R, you saw the equivalents, `vetiver_api()` and `pr_run()`.*"
   ]
  },
  {
   "cell_type": "code",
   "execution_count": 7,
   "metadata": {},
   "outputs": [
    {
     "name": "stderr",
     "output_type": "stream",
     "text": [
      "/Users/isabelzimmerman/.pyenv/versions/3.9.11/envs/pydemo/lib/python3.9/site-packages/vetiver/utils.py:14: UserWarning: WARNING: Jupyter Notebooks are not considered stable environments for production code\n",
      "  warnings.warn(\n",
      "INFO:     Started server process [32750]\n",
      "INFO:     Waiting for application startup.\n",
      "INFO:     Application startup complete.\n",
      "INFO:     Uvicorn running on http://127.0.0.1:8000 (Press CTRL+C to quit)\n",
      "INFO:     Shutting down\n",
      "INFO:     Waiting for application shutdown.\n",
      "INFO:     Application shutdown complete.\n",
      "INFO:     Finished server process [32750]\n"
     ]
    }
   ],
   "source": [
    "app = vetiver.VetiverAPI(v)\n",
    "app.run()"
   ]
  },
  {
   "cell_type": "markdown",
   "metadata": {},
   "source": [
    "This is a great start to debug my API, but my end goal is to *NOT* run my model on my personal machine. We can instead deploy to a remote server, such as RStudio Connect. This will involve setting up a connection with the server and deploying our pinned model to RSConnect."
   ]
  },
  {
   "cell_type": "markdown",
   "metadata": {},
   "source": [
    "We can deploy our model, which is strongly linked to the version we just pinned above. Note: this model is already deployed, so no need to run this chunk again, unless we want to update our model."
   ]
  },
  {
   "cell_type": "code",
   "execution_count": 8,
   "metadata": {},
   "outputs": [
    {
     "name": "stdout",
     "output_type": "stream",
     "text": [
      "\u001b[33m    Warning: Capturing the environment using 'pip freeze'.\n",
      "             Consider creating a requirements.txt file instead.\u001b[0m\n"
     ]
    },
    {
     "name": "stderr",
     "output_type": "stream",
     "text": [
      "/Users/isabelzimmerman/.pyenv/versions/3.10.7/envs/uwm/lib/python3.10/site-packages/vetiver/write_fastapi.py:21: UserWarning: Pinned vetiver model has no active version and no datetime on versions,\n",
      "              Do you need to check your pinned model?\n",
      "              Using version 88405\n",
      "  warnings.warn(\n",
      "\u001b[33;20mConnect detected CLI commands and/or environment variables that overlap with stored credential.\n",
      "\u001b[0m\u001b[33;20mCheck your environment variables (e.g. CONNECT_API_KEY) to make sure you want them to be used.\n",
      "\u001b[0m\u001b[33;20mCredential paremeters are taken with the following precedence: stored > CLI > environment.\n",
      "\u001b[0m\u001b[33;20mTo ignore an environment variable, override it in the CLI with an empty string (e.g. -k '').\n",
      "\u001b[0m\u001b[0mValidating server...\u001b[0m\u001b[32;20m \t[OK]\n",
      "\u001b[0m\u001b[0mValidating app mode...\u001b[0m\u001b[32;20m \t[OK]\n",
      "\u001b[0m\u001b[0mMaking bundle ...\u001b[0m\u001b[32;20m \t[OK]\n",
      "\u001b[0m\u001b[0mDeploying bundle ...\u001b[0m\u001b[32;20m \t[OK]\n",
      "\u001b[0m\u001b[0mSaving deployed information...\u001b[0m\u001b[32;20m \t[OK]\n",
      "\u001b[0m\u001b[0mBuilding FastAPI application...\u001b[0m\n",
      "\u001b[0mBundle created with Python version 3.10.7 is compatible with environment Kubernetes::ghcr.io/rstudio/content-pro:r4.1.3-py3.10.11-ubuntu2204 with Python version 3.10.11 from /opt/python/3.10.11/bin/python3 \u001b[0m\n",
      "\u001b[0mBundle requested Python version 3.10.7; using /opt/python/3.10.11/bin/python3 from Kubernetes::ghcr.io/rstudio/content-pro:r4.1.3-py3.10.11-ubuntu2204 which has version 3.10.11\u001b[0m\n",
      "\u001b[0mDetermining session server location ...\u001b[0m\n",
      "\u001b[0m2024/01/17 00:13:51.271711558 [rsc-session] Content GUID: e2cccc2b-b3b7-4267-82ad-262e59ce2e33\u001b[0m\n",
      "\u001b[0m2024/01/17 00:13:51.274585873 [rsc-session] Content ID: 18956\u001b[0m\n",
      "\u001b[0m2024/01/17 00:13:51.274724086 [rsc-session] Bundle ID: 88406\u001b[0m\n",
      "\u001b[0m2024/01/17 00:13:51.274733982 [rsc-session] Job Key: E0BGfgo1XJnOTUvg\u001b[0m\n",
      "\u001b[0mConnecting to session server http://service-f891ba3a-08c5-42a9-b49f-1db57ef6d41a.rstudio-connect:50734 ...\u001b[0m\n",
      "\u001b[0mConnected to session server http://service-f891ba3a-08c5-42a9-b49f-1db57ef6d41a.rstudio-connect:50734\u001b[0m\n",
      "\u001b[0m2024/01/17 00:13:51.681028028 Running on host: python-environment-restore-pkpvh-htfl7\u001b[0m\n",
      "\u001b[0m2024/01/17 00:13:52.627125096 Linux distribution: Ubuntu 22.04.3 LTS (jammy)\u001b[0m\n",
      "\u001b[0m2024/01/17 00:13:52.635178608 Running as user: uid=999 gid=999 groups=999\u001b[0m\n",
      "\u001b[0m2024/01/17 00:13:52.635191751 Connect version: 2023.12.0\u001b[0m\n",
      "\u001b[0m2024/01/17 00:13:52.635237485 LANG: en_US.UTF-8\u001b[0m\n",
      "\u001b[0m2024/01/17 00:13:52.635240753 Working directory: /opt/rstudio-connect/mnt/app\u001b[0m\n",
      "\u001b[0m2024/01/17 00:13:52.635247361 Building environment using Python 3.10.11 (main, Oct  5 2023, 22:55:55) [GCC 11.4.0] at /opt/python/3.10.11/bin/python3\u001b[0m\n",
      "\u001b[0m2024/01/17 00:13:52.649433150 Skipped packages: appnope==0.1.3\u001b[0m\n",
      "\u001b[0m2024/01/17 00:13:52.649569625 Creating environment: xXb-joK_eMeNIhR8bOeSGQ\u001b[0m\n",
      "\u001b[0m2024/01/17 00:14:06.382452463 Requirement already satisfied: pip in /opt/rstudio-connect/mnt/python-environments/ghcr.io_rstudio_content-pro__r4.1.3-py3.10.11-ubuntu2204/pip/3.10.11/xXb-joK_eMeNIhR8bOeSGQ/lib/python3.10/site-packages (23.0.1)\u001b[0m\n",
      "\u001b[0m2024/01/17 00:14:06.717130290 Collecting pip\u001b[0m\n",
      "\u001b[0m2024/01/17 00:14:06.745016106   Using cached pip-23.3.2-py3-none-any.whl (2.1 MB)\u001b[0m\n",
      "\u001b[0m2024/01/17 00:14:06.764643227 Requirement already satisfied: setuptools in /opt/rstudio-connect/mnt/python-environments/ghcr.io_rstudio_content-pro__r4.1.3-py3.10.11-ubuntu2204/pip/3.10.11/xXb-joK_eMeNIhR8bOeSGQ/lib/python3.10/site-packages (65.5.0)\u001b[0m\n",
      "\u001b[0m2024/01/17 00:14:07.348188728 Collecting setuptools\u001b[0m\n",
      "\u001b[0m2024/01/17 00:14:07.371782730   Using cached setuptools-69.0.3-py3-none-any.whl (819 kB)\u001b[0m\n",
      "\u001b[0m2024/01/17 00:14:07.558797451 Collecting wheel\u001b[0m\n",
      "\u001b[0m2024/01/17 00:14:07.575945073   Using cached wheel-0.42.0-py3-none-any.whl (65 kB)\u001b[0m\n",
      "\u001b[0m2024/01/17 00:14:07.733645777 Installing collected packages: wheel, setuptools, pip\u001b[0m\n",
      "\u001b[0m2024/01/17 00:14:08.419562339   Attempting uninstall: setuptools\u001b[0m\n",
      "\u001b[0m2024/01/17 00:14:08.421723723     Found existing installation: setuptools 65.5.0\u001b[0m\n",
      "\u001b[0m2024/01/17 00:14:08.959192366     Uninstalling setuptools-65.5.0:\u001b[0m\n",
      "\u001b[0m2024/01/17 00:14:09.245884384       Successfully uninstalled setuptools-65.5.0\u001b[0m\n",
      "\u001b[0m2024/01/17 00:14:12.890297914   Attempting uninstall: pip\u001b[0m\n",
      "\u001b[0m2024/01/17 00:14:12.894392207     Found existing installation: pip 23.0.1\u001b[0m\n",
      "\u001b[0m2024/01/17 00:14:14.329525879     Uninstalling pip-23.0.1:\u001b[0m\n",
      "\u001b[0m2024/01/17 00:14:14.521545281       Successfully uninstalled pip-23.0.1\u001b[0m\n",
      "\u001b[0m2024/01/17 00:14:20.867761838 Successfully installed pip-23.3.2 setuptools-69.0.3 wheel-0.42.0\u001b[0m\n",
      "\u001b[0m2024/01/17 00:14:22.288412877 Collecting annotated-types==0.6.0 (from -r python/requirements.txt (line 1))\u001b[0m\n",
      "\u001b[0m2024/01/17 00:14:22.315638625   Using cached annotated_types-0.6.0-py3-none-any.whl.metadata (12 kB)\u001b[0m\n",
      "\u001b[0m2024/01/17 00:14:22.696771857 Collecting anyio==4.2.0 (from -r python/requirements.txt (line 2))\u001b[0m\n",
      "\u001b[0m2024/01/17 00:14:22.711206085   Using cached anyio-4.2.0-py3-none-any.whl.metadata (4.6 kB)\u001b[0m\n",
      "\u001b[0m2024/01/17 00:14:22.875004437 Collecting appdirs==1.4.4 (from -r python/requirements.txt (line 3))\u001b[0m\n",
      "\u001b[0m2024/01/17 00:14:22.892338868   Using cached appdirs-1.4.4-py2.py3-none-any.whl (9.6 kB)\u001b[0m\n",
      "\u001b[0m2024/01/17 00:14:23.336594957 Collecting asttokens==2.4.1 (from -r python/requirements.txt (line 4))\u001b[0m\n",
      "\u001b[0m2024/01/17 00:14:23.351954557   Using cached asttokens-2.4.1-py2.py3-none-any.whl.metadata (5.2 kB)\u001b[0m\n",
      "\u001b[0m2024/01/17 00:14:23.747047663 Collecting build==1.0.3 (from -r python/requirements.txt (line 5))\u001b[0m\n",
      "\u001b[0m2024/01/17 00:14:23.886992737   Downloading build-1.0.3-py3-none-any.whl.metadata (4.2 kB)\u001b[0m\n",
      "\u001b[0m2024/01/17 00:14:24.313127660 Collecting certifi==2023.11.17 (from -r python/requirements.txt (line 6))\u001b[0m\n",
      "\u001b[0m2024/01/17 00:14:24.337907683   Using cached certifi-2023.11.17-py3-none-any.whl.metadata (2.2 kB)\u001b[0m\n",
      "\u001b[0m2024/01/17 00:14:24.613259377 Collecting charset-normalizer==3.3.2 (from -r python/requirements.txt (line 7))\u001b[0m\n",
      "\u001b[0m2024/01/17 00:14:24.643395449   Using cached charset_normalizer-3.3.2-cp310-cp310-manylinux_2_17_x86_64.manylinux2014_x86_64.whl.metadata (33 kB)\u001b[0m\n",
      "\u001b[0m2024/01/17 00:14:24.824558795 Collecting click==8.1.7 (from -r python/requirements.txt (line 8))\u001b[0m\n",
      "\u001b[0m2024/01/17 00:14:24.841000872   Using cached click-8.1.7-py3-none-any.whl.metadata (3.0 kB)\u001b[0m\n",
      "\u001b[0m2024/01/17 00:14:25.008500869 Collecting comm==0.2.1 (from -r python/requirements.txt (line 9))\u001b[0m\n",
      "\u001b[0m2024/01/17 00:14:25.025153251   Using cached comm-0.2.1-py3-none-any.whl.metadata (3.7 kB)\u001b[0m\n",
      "\u001b[0m2024/01/17 00:14:25.290754657 Collecting debugpy==1.8.0 (from -r python/requirements.txt (line 10))\u001b[0m\n",
      "\u001b[0m2024/01/17 00:14:25.304625135   Using cached debugpy-1.8.0-cp310-cp310-manylinux_2_17_x86_64.manylinux2014_x86_64.whl.metadata (1.0 kB)\u001b[0m\n",
      "\u001b[0m2024/01/17 00:14:25.463527419 Collecting decorator==5.1.1 (from -r python/requirements.txt (line 11))\u001b[0m\n",
      "\u001b[0m2024/01/17 00:14:25.480782463   Using cached decorator-5.1.1-py3-none-any.whl (9.1 kB)\u001b[0m\n",
      "\u001b[0m2024/01/17 00:14:25.622248516 Collecting exceptiongroup==1.2.0 (from -r python/requirements.txt (line 12))\u001b[0m\n",
      "\u001b[0m2024/01/17 00:14:25.644158124   Using cached exceptiongroup-1.2.0-py3-none-any.whl.metadata (6.6 kB)\u001b[0m\n",
      "\u001b[0m2024/01/17 00:14:25.787985810 Collecting executing==2.0.1 (from -r python/requirements.txt (line 13))\u001b[0m\n",
      "\u001b[0m2024/01/17 00:14:25.808953763   Using cached executing-2.0.1-py2.py3-none-any.whl.metadata (9.0 kB)\u001b[0m\n",
      "\u001b[0m2024/01/17 00:14:26.093859865 Collecting fastapi==0.109.0 (from -r python/requirements.txt (line 14))\u001b[0m\n",
      "\u001b[0m2024/01/17 00:14:26.112881308   Using cached fastapi-0.109.0-py3-none-any.whl.metadata (24 kB)\u001b[0m\n",
      "\u001b[0m2024/01/17 00:14:26.315051910 Collecting fsspec==2023.12.2 (from -r python/requirements.txt (line 15))\u001b[0m\n",
      "\u001b[0m2024/01/17 00:14:26.336324820   Using cached fsspec-2023.12.2-py3-none-any.whl.metadata (6.8 kB)\u001b[0m\n",
      "\u001b[0m2024/01/17 00:14:26.473825953 Collecting h11==0.14.0 (from -r python/requirements.txt (line 16))\u001b[0m\n",
      "\u001b[0m2024/01/17 00:14:26.495603920   Using cached h11-0.14.0-py3-none-any.whl (58 kB)\u001b[0m\n",
      "\u001b[0m2024/01/17 00:14:26.794236699 Collecting httpcore==1.0.2 (from -r python/requirements.txt (line 17))\u001b[0m\n",
      "\u001b[0m2024/01/17 00:14:26.827368213   Downloading httpcore-1.0.2-py3-none-any.whl.metadata (20 kB)\u001b[0m\n",
      "\u001b[0m2024/01/17 00:14:27.386873815 Collecting httpx==0.26.0 (from -r python/requirements.txt (line 18))\u001b[0m\n",
      "\u001b[0m2024/01/17 00:14:27.424442115   Downloading httpx-0.26.0-py3-none-any.whl.metadata (7.6 kB)\u001b[0m\n",
      "\u001b[0m2024/01/17 00:14:27.964154336 Collecting humanize==4.9.0 (from -r python/requirements.txt (line 19))\u001b[0m\n",
      "\u001b[0m2024/01/17 00:14:27.989000903   Downloading humanize-4.9.0-py3-none-any.whl.metadata (7.9 kB)\u001b[0m\n",
      "\u001b[0m2024/01/17 00:14:28.411038741 Collecting idna==3.6 (from -r python/requirements.txt (line 20))\u001b[0m\n",
      "\u001b[0m2024/01/17 00:14:28.427619575   Using cached idna-3.6-py3-none-any.whl.metadata (9.9 kB)\u001b[0m\n",
      "\u001b[0m2024/01/17 00:14:28.765521241 Collecting importlib-metadata==7.0.1 (from -r python/requirements.txt (line 21))\u001b[0m\n",
      "\u001b[0m2024/01/17 00:14:28.798313766   Downloading importlib_metadata-7.0.1-py3-none-any.whl.metadata (4.9 kB)\u001b[0m\n",
      "\u001b[0m2024/01/17 00:14:29.280742911 Collecting importlib-resources==6.1.1 (from -r python/requirements.txt (line 22))\u001b[0m\n",
      "\u001b[0m2024/01/17 00:14:29.307841300   Downloading importlib_resources-6.1.1-py3-none-any.whl.metadata (4.1 kB)\u001b[0m\n",
      "\u001b[0m2024/01/17 00:14:29.748155463 Collecting ipykernel==6.29.0 (from -r python/requirements.txt (line 23))\u001b[0m\n",
      "\u001b[0m2024/01/17 00:14:29.773968115   Downloading ipykernel-6.29.0-py3-none-any.whl.metadata (6.0 kB)\u001b[0m\n",
      "\u001b[0m2024/01/17 00:14:30.135191578 Collecting ipython==8.20.0 (from -r python/requirements.txt (line 24))\u001b[0m\n",
      "\u001b[0m2024/01/17 00:14:30.149697038   Using cached ipython-8.20.0-py3-none-any.whl.metadata (5.9 kB)\u001b[0m\n",
      "\u001b[0m2024/01/17 00:14:30.310115476 Collecting jedi==0.19.1 (from -r python/requirements.txt (line 25))\u001b[0m\n",
      "\u001b[0m2024/01/17 00:14:30.324217927   Using cached jedi-0.19.1-py2.py3-none-any.whl.metadata (22 kB)\u001b[0m\n",
      "\u001b[0m2024/01/17 00:14:30.496933466 Collecting Jinja2==3.1.3 (from -r python/requirements.txt (line 26))\u001b[0m\n",
      "\u001b[0m2024/01/17 00:14:30.511036004   Using cached Jinja2-3.1.3-py3-none-any.whl.metadata (3.3 kB)\u001b[0m\n",
      "\u001b[0m2024/01/17 00:14:30.718920316 Collecting joblib==1.3.2 (from -r python/requirements.txt (line 27))\u001b[0m\n",
      "\u001b[0m2024/01/17 00:14:30.743626396   Using cached joblib-1.3.2-py3-none-any.whl.metadata (5.4 kB)\u001b[0m\n",
      "\u001b[0m2024/01/17 00:14:30.953121585 Collecting jupyter_client==8.6.0 (from -r python/requirements.txt (line 28))\u001b[0m\n",
      "\u001b[0m2024/01/17 00:14:30.972586816   Using cached jupyter_client-8.6.0-py3-none-any.whl.metadata (8.3 kB)\u001b[0m\n",
      "\u001b[0m2024/01/17 00:14:31.236162622 Collecting jupyter_core==5.7.1 (from -r python/requirements.txt (line 29))\u001b[0m\n",
      "\u001b[0m2024/01/17 00:14:31.266521541   Using cached jupyter_core-5.7.1-py3-none-any.whl.metadata (3.4 kB)\u001b[0m\n",
      "\u001b[0m2024/01/17 00:14:31.485828993 Collecting MarkupSafe==2.1.3 (from -r python/requirements.txt (line 30))\u001b[0m\n",
      "\u001b[0m2024/01/17 00:14:31.501510245   Using cached MarkupSafe-2.1.3-cp310-cp310-manylinux_2_17_x86_64.manylinux2014_x86_64.whl.metadata (3.0 kB)\u001b[0m\n",
      "\u001b[0m2024/01/17 00:14:31.617812967 Collecting matplotlib-inline==0.1.6 (from -r python/requirements.txt (line 31))\u001b[0m\n",
      "\u001b[0m2024/01/17 00:14:31.632735461   Using cached matplotlib_inline-0.1.6-py3-none-any.whl (9.4 kB)\u001b[0m\n",
      "\u001b[0m2024/01/17 00:14:31.776413352 Collecting nest-asyncio==1.5.9 (from -r python/requirements.txt (line 32))\u001b[0m\n",
      "\u001b[0m2024/01/17 00:14:31.792376672   Using cached nest_asyncio-1.5.9-py3-none-any.whl.metadata (2.8 kB)\u001b[0m\n",
      "\u001b[0m2024/01/17 00:14:32.170171969 Collecting numpy==1.26.3 (from -r python/requirements.txt (line 33))\u001b[0m\n",
      "\u001b[0m2024/01/17 00:14:32.184454467   Using cached numpy-1.26.3-cp310-cp310-manylinux_2_17_x86_64.manylinux2014_x86_64.whl.metadata (61 kB)\u001b[0m\n",
      "\u001b[0m2024/01/17 00:14:32.346314935 Collecting packaging==23.2 (from -r python/requirements.txt (line 34))\u001b[0m\n",
      "\u001b[0m2024/01/17 00:14:32.361241817   Using cached packaging-23.2-py3-none-any.whl.metadata (3.2 kB)\u001b[0m\n",
      "\u001b[0m2024/01/17 00:14:32.639003230 Collecting pandas==2.1.4 (from -r python/requirements.txt (line 35))\u001b[0m\n",
      "\u001b[0m2024/01/17 00:14:32.656266625   Using cached pandas-2.1.4-cp310-cp310-manylinux_2_17_x86_64.manylinux2014_x86_64.whl.metadata (18 kB)\u001b[0m\n",
      "\u001b[0m2024/01/17 00:14:32.787437368 Collecting parso==0.8.3 (from -r python/requirements.txt (line 36))\u001b[0m\n",
      "\u001b[0m2024/01/17 00:14:32.810018439   Using cached parso-0.8.3-py2.py3-none-any.whl (100 kB)\u001b[0m\n",
      "\u001b[0m2024/01/17 00:14:32.940723316 Collecting pexpect==4.9.0 (from -r python/requirements.txt (line 37))\u001b[0m\n",
      "\u001b[0m2024/01/17 00:14:32.958480900   Using cached pexpect-4.9.0-py2.py3-none-any.whl.metadata (2.5 kB)\u001b[0m\n",
      "\u001b[0m2024/01/17 00:14:33.227393542 Collecting pins==0.8.4 (from -r python/requirements.txt (line 38))\u001b[0m\n",
      "\u001b[0m2024/01/17 00:14:33.256701607   Downloading pins-0.8.4-py2.py3-none-any.whl.metadata (6.4 kB)\u001b[0m\n",
      "\u001b[0m2024/01/17 00:14:33.668832764 Collecting pip-tools==7.3.0 (from -r python/requirements.txt (line 39))\u001b[0m\n",
      "\u001b[0m2024/01/17 00:14:33.695314265   Downloading pip_tools-7.3.0-py3-none-any.whl.metadata (23 kB)\u001b[0m\n",
      "\u001b[0m2024/01/17 00:14:33.981383739 Collecting platformdirs==4.1.0 (from -r python/requirements.txt (line 40))\u001b[0m\n",
      "\u001b[0m2024/01/17 00:14:33.996795652   Using cached platformdirs-4.1.0-py3-none-any.whl.metadata (11 kB)\u001b[0m\n",
      "\u001b[0m2024/01/17 00:14:34.189629534 Collecting plotly==5.18.0 (from -r python/requirements.txt (line 41))\u001b[0m\n",
      "\u001b[0m2024/01/17 00:14:34.218782028   Using cached plotly-5.18.0-py3-none-any.whl.metadata (7.0 kB)\u001b[0m\n",
      "\u001b[0m2024/01/17 00:14:34.411965978 Collecting prompt-toolkit==3.0.43 (from -r python/requirements.txt (line 42))\u001b[0m\n",
      "\u001b[0m2024/01/17 00:14:34.433903203   Using cached prompt_toolkit-3.0.43-py3-none-any.whl.metadata (6.5 kB)\u001b[0m\n",
      "\u001b[0m2024/01/17 00:14:34.708371634 Collecting psutil==5.9.7 (from -r python/requirements.txt (line 43))\u001b[0m\n",
      "\u001b[0m2024/01/17 00:14:34.724922768   Using cached psutil-5.9.7-cp36-abi3-manylinux_2_12_x86_64.manylinux2010_x86_64.manylinux_2_17_x86_64.manylinux2014_x86_64.whl.metadata (21 kB)\u001b[0m\n",
      "\u001b[0m2024/01/17 00:14:34.900894794 Collecting ptyprocess==0.7.0 (from -r python/requirements.txt (line 44))\u001b[0m\n",
      "\u001b[0m2024/01/17 00:14:34.916844457   Using cached ptyprocess-0.7.0-py2.py3-none-any.whl (13 kB)\u001b[0m\n",
      "\u001b[0m2024/01/17 00:14:35.044844597 Collecting pure-eval==0.2.2 (from -r python/requirements.txt (line 45))\u001b[0m\n",
      "\u001b[0m2024/01/17 00:14:35.059097076   Using cached pure_eval-0.2.2-py3-none-any.whl (11 kB)\u001b[0m\n",
      "\u001b[0m2024/01/17 00:14:35.392636636 Collecting pydantic==2.5.3 (from -r python/requirements.txt (line 46))\u001b[0m\n",
      "\u001b[0m2024/01/17 00:14:35.405779708   Using cached pydantic-2.5.3-py3-none-any.whl.metadata (65 kB)\u001b[0m\n",
      "\u001b[0m2024/01/17 00:14:36.224979499 Collecting pydantic_core==2.14.6 (from -r python/requirements.txt (line 47))\u001b[0m\n",
      "\u001b[0m2024/01/17 00:14:36.238673707   Using cached pydantic_core-2.14.6-cp310-cp310-manylinux_2_17_x86_64.manylinux2014_x86_64.whl.metadata (6.5 kB)\u001b[0m\n",
      "\u001b[0m2024/01/17 00:14:36.411826682 Collecting Pygments==2.17.2 (from -r python/requirements.txt (line 48))\u001b[0m\n",
      "\u001b[0m2024/01/17 00:14:36.425331529   Using cached pygments-2.17.2-py3-none-any.whl.metadata (2.6 kB)\u001b[0m\n",
      "\u001b[0m2024/01/17 00:14:36.578441406 Collecting PyJWT==2.8.0 (from -r python/requirements.txt (line 49))\u001b[0m\n",
      "\u001b[0m2024/01/17 00:14:36.606914780   Using cached PyJWT-2.8.0-py3-none-any.whl.metadata (4.2 kB)\u001b[0m\n",
      "\u001b[0m2024/01/17 00:14:36.967872478 Collecting pyproject_hooks==1.0.0 (from -r python/requirements.txt (line 50))\u001b[0m\n",
      "\u001b[0m2024/01/17 00:14:36.996722225   Downloading pyproject_hooks-1.0.0-py3-none-any.whl (9.3 kB)\u001b[0m\n",
      "\u001b[0m2024/01/17 00:14:37.404329204 Collecting python-dateutil==2.8.2 (from -r python/requirements.txt (line 51))\u001b[0m\n",
      "\u001b[0m2024/01/17 00:14:37.425764359   Using cached python_dateutil-2.8.2-py2.py3-none-any.whl (247 kB)\u001b[0m\n",
      "\u001b[0m2024/01/17 00:14:37.583881726 Collecting python-dotenv==1.0.0 (from -r python/requirements.txt (line 52))\u001b[0m\n",
      "\u001b[0m2024/01/17 00:14:37.607502502   Using cached python_dotenv-1.0.0-py3-none-any.whl (19 kB)\u001b[0m\n",
      "\u001b[0m2024/01/17 00:14:37.834945018 Collecting pytz==2023.3.post1 (from -r python/requirements.txt (line 53))\u001b[0m\n",
      "\u001b[0m2024/01/17 00:14:37.867379963   Using cached pytz-2023.3.post1-py2.py3-none-any.whl.metadata (22 kB)\u001b[0m\n",
      "\u001b[0m2024/01/17 00:14:38.160889883 Collecting PyYAML==6.0.1 (from -r python/requirements.txt (line 54))\u001b[0m\n",
      "\u001b[0m2024/01/17 00:14:38.194301931   Using cached PyYAML-6.0.1-cp310-cp310-manylinux_2_17_x86_64.manylinux2014_x86_64.whl.metadata (2.1 kB)\u001b[0m\n",
      "\u001b[0m2024/01/17 00:14:38.582769007 Collecting pyzmq==25.1.2 (from -r python/requirements.txt (line 55))\u001b[0m\n",
      "\u001b[0m2024/01/17 00:14:38.597559167   Using cached pyzmq-25.1.2-cp310-cp310-manylinux_2_28_x86_64.whl.metadata (4.9 kB)\u001b[0m\n",
      "\u001b[0m2024/01/17 00:14:38.763552990 Collecting requests==2.31.0 (from -r python/requirements.txt (line 56))\u001b[0m\n",
      "\u001b[0m2024/01/17 00:14:38.777168125   Using cached requests-2.31.0-py3-none-any.whl.metadata (4.6 kB)\u001b[0m\n",
      "\u001b[0m2024/01/17 00:14:39.036609121 Collecting scikit-learn==1.3.2 (from -r python/requirements.txt (line 57))\u001b[0m\n",
      "\u001b[0m2024/01/17 00:14:39.058645438   Using cached scikit_learn-1.3.2-cp310-cp310-manylinux_2_17_x86_64.manylinux2014_x86_64.whl.metadata (11 kB)\u001b[0m\n",
      "\u001b[0m2024/01/17 00:14:39.480313939 Collecting scipy==1.11.4 (from -r python/requirements.txt (line 58))\u001b[0m\n",
      "\u001b[0m2024/01/17 00:14:39.509601526   Using cached scipy-1.11.4-cp310-cp310-manylinux_2_17_x86_64.manylinux2014_x86_64.whl.metadata (60 kB)\u001b[0m\n",
      "\u001b[0m2024/01/17 00:14:39.700293574 Collecting semver==2.13.0 (from -r python/requirements.txt (line 59))\u001b[0m\n",
      "\u001b[0m2024/01/17 00:14:39.732820468   Using cached semver-2.13.0-py2.py3-none-any.whl (12 kB)\u001b[0m\n",
      "\u001b[0m2024/01/17 00:14:39.924328088 Collecting six==1.16.0 (from -r python/requirements.txt (line 60))\u001b[0m\n",
      "\u001b[0m2024/01/17 00:14:39.945112063   Using cached six-1.16.0-py2.py3-none-any.whl (11 kB)\u001b[0m\n",
      "\u001b[0m2024/01/17 00:14:40.093783315 Collecting sniffio==1.3.0 (from -r python/requirements.txt (line 61))\u001b[0m\n",
      "\u001b[0m2024/01/17 00:14:40.108481831   Using cached sniffio-1.3.0-py3-none-any.whl (10 kB)\u001b[0m\n",
      "\u001b[0m2024/01/17 00:14:40.262298425 Collecting stack-data==0.6.3 (from -r python/requirements.txt (line 62))\u001b[0m\n",
      "\u001b[0m2024/01/17 00:14:40.276094337   Using cached stack_data-0.6.3-py3-none-any.whl.metadata (18 kB)\u001b[0m\n",
      "\u001b[0m2024/01/17 00:14:40.427506188 Collecting starlette==0.35.1 (from -r python/requirements.txt (line 63))\u001b[0m\n",
      "\u001b[0m2024/01/17 00:14:40.442067174   Using cached starlette-0.35.1-py3-none-any.whl.metadata (5.8 kB)\u001b[0m\n",
      "\u001b[0m2024/01/17 00:14:40.669709495 Collecting tenacity==8.2.3 (from -r python/requirements.txt (line 64))\u001b[0m\n",
      "\u001b[0m2024/01/17 00:14:40.700212050   Using cached tenacity-8.2.3-py3-none-any.whl.metadata (1.0 kB)\u001b[0m\n",
      "\u001b[0m2024/01/17 00:14:40.879185200 Collecting threadpoolctl==3.2.0 (from -r python/requirements.txt (line 65))\u001b[0m\n",
      "\u001b[0m2024/01/17 00:14:40.932005038   Using cached threadpoolctl-3.2.0-py3-none-any.whl.metadata (10.0 kB)\u001b[0m\n",
      "\u001b[0m2024/01/17 00:14:41.146971367 Collecting tomli==2.0.1 (from -r python/requirements.txt (line 66))\u001b[0m\n",
      "\u001b[0m2024/01/17 00:14:41.163979117   Using cached tomli-2.0.1-py3-none-any.whl (12 kB)\u001b[0m\n",
      "\u001b[0m2024/01/17 00:14:41.349753319 Collecting tornado==6.4 (from -r python/requirements.txt (line 67))\u001b[0m\n",
      "\u001b[0m2024/01/17 00:14:41.369381983   Using cached tornado-6.4-cp38-abi3-manylinux_2_5_x86_64.manylinux1_x86_64.manylinux_2_17_x86_64.manylinux2014_x86_64.whl.metadata (2.5 kB)\u001b[0m\n",
      "\u001b[0m2024/01/17 00:14:41.531416684 Collecting traitlets==5.14.1 (from -r python/requirements.txt (line 68))\u001b[0m\n",
      "\u001b[0m2024/01/17 00:14:41.547221323   Using cached traitlets-5.14.1-py3-none-any.whl.metadata (10 kB)\u001b[0m\n",
      "\u001b[0m2024/01/17 00:14:41.702644330 Collecting typing_extensions==4.9.0 (from -r python/requirements.txt (line 69))\u001b[0m\n",
      "\u001b[0m2024/01/17 00:14:41.722768504   Using cached typing_extensions-4.9.0-py3-none-any.whl.metadata (3.0 kB)\u001b[0m\n",
      "\u001b[0m2024/01/17 00:14:41.864558435 Collecting tzdata==2023.4 (from -r python/requirements.txt (line 70))\u001b[0m\n",
      "\u001b[0m2024/01/17 00:14:41.883792788   Using cached tzdata-2023.4-py2.py3-none-any.whl.metadata (1.4 kB)\u001b[0m\n",
      "\u001b[0m2024/01/17 00:14:42.084678787 Collecting urllib3==2.1.0 (from -r python/requirements.txt (line 71))\u001b[0m\n",
      "\u001b[0m2024/01/17 00:14:42.115543228   Using cached urllib3-2.1.0-py3-none-any.whl.metadata (6.4 kB)\u001b[0m\n",
      "\u001b[0m2024/01/17 00:14:42.383669815 Collecting uvicorn==0.26.0 (from -r python/requirements.txt (line 72))\u001b[0m\n",
      "\u001b[0m2024/01/17 00:14:42.423324520   Downloading uvicorn-0.26.0-py3-none-any.whl.metadata (6.4 kB)\u001b[0m\n",
      "\u001b[0m2024/01/17 00:14:42.904165326 Collecting vetiver==0.2.4 (from -r python/requirements.txt (line 73))\u001b[0m\n",
      "\u001b[0m2024/01/17 00:14:42.927946646   Downloading vetiver-0.2.4-py3-none-any.whl.metadata (5.4 kB)\u001b[0m\n",
      "\u001b[0m2024/01/17 00:14:43.321160276 Collecting wcwidth==0.2.13 (from -r python/requirements.txt (line 74))\u001b[0m\n",
      "\u001b[0m2024/01/17 00:14:43.344021284   Using cached wcwidth-0.2.13-py2.py3-none-any.whl.metadata (14 kB)\u001b[0m\n",
      "\u001b[0m2024/01/17 00:14:43.694413769 Collecting xxhash==3.4.1 (from -r python/requirements.txt (line 75))\u001b[0m\n",
      "\u001b[0m2024/01/17 00:14:43.730735400   Downloading xxhash-3.4.1-cp310-cp310-manylinux_2_17_x86_64.manylinux2014_x86_64.whl.metadata (12 kB)\u001b[0m\n",
      "\u001b[0m2024/01/17 00:14:44.325762323 Collecting zipp==3.17.0 (from -r python/requirements.txt (line 76))\u001b[0m\n",
      "\u001b[0m2024/01/17 00:14:44.356243480   Using cached zipp-3.17.0-py3-none-any.whl.metadata (3.7 kB)\u001b[0m\n",
      "\u001b[0m2024/01/17 00:14:44.602709394 Collecting websockets (from -r python/requirements.txt (line 77))\u001b[0m\n",
      "\u001b[0m2024/01/17 00:14:44.617748043   Using cached websockets-12.0-cp310-cp310-manylinux_2_5_x86_64.manylinux1_x86_64.manylinux_2_17_x86_64.manylinux2014_x86_64.whl.metadata (6.6 kB)\u001b[0m\n",
      "\u001b[0m2024/01/17 00:14:44.805804858 Collecting aiofiles (from -r python/requirements.txt (line 78))\u001b[0m\n",
      "\u001b[0m2024/01/17 00:14:44.821913706   Using cached aiofiles-23.2.1-py3-none-any.whl.metadata (9.7 kB)\u001b[0m\n",
      "\u001b[0m2024/01/17 00:14:44.981822369 Collecting wsproto (from -r python/requirements.txt (line 79))\u001b[0m\n",
      "\u001b[0m2024/01/17 00:14:44.998444982   Using cached wsproto-1.2.0-py3-none-any.whl (24 kB)\u001b[0m\n",
      "\u001b[0m2024/01/17 00:14:46.188155800 Requirement already satisfied: pip>=22.2 in /opt/rstudio-connect/mnt/python-environments/ghcr.io_rstudio_content-pro__r4.1.3-py3.10.11-ubuntu2204/pip/3.10.11/xXb-joK_eMeNIhR8bOeSGQ/lib/python3.10/site-packages (from pip-tools==7.3.0->-r python/requirements.txt (line 39)) (23.3.2)\u001b[0m\n",
      "\u001b[0m2024/01/17 00:14:46.188171184 Requirement already satisfied: setuptools in /opt/rstudio-connect/mnt/python-environments/ghcr.io_rstudio_content-pro__r4.1.3-py3.10.11-ubuntu2204/pip/3.10.11/xXb-joK_eMeNIhR8bOeSGQ/lib/python3.10/site-packages (from pip-tools==7.3.0->-r python/requirements.txt (line 39)) (69.0.3)\u001b[0m\n",
      "\u001b[0m2024/01/17 00:14:46.188212326 Requirement already satisfied: wheel in /opt/rstudio-connect/mnt/python-environments/ghcr.io_rstudio_content-pro__r4.1.3-py3.10.11-ubuntu2204/pip/3.10.11/xXb-joK_eMeNIhR8bOeSGQ/lib/python3.10/site-packages (from pip-tools==7.3.0->-r python/requirements.txt (line 39)) (0.42.0)\u001b[0m\n",
      "\u001b[0m2024/01/17 00:14:47.482264903 Collecting rsconnect-python>=1.11.0 (from vetiver==0.2.4->-r python/requirements.txt (line 73))\u001b[0m\n",
      "\u001b[0m2024/01/17 00:14:47.508528124   Downloading rsconnect_python-1.21.0-py2.py3-none-any.whl.metadata (64 kB)\u001b[0m\n",
      "\u001b[0m2024/01/17 00:14:47.877233418      ━━━━━━━━━━━━━━━━━━━━━━━━━━━━━━━━━━━━━━━ 64.1/64.1 kB 147.9 kB/s eta 0:00:00\u001b[0m\n",
      "\u001b[0m2024/01/17 00:14:48.294310167 Using cached annotated_types-0.6.0-py3-none-any.whl (12 kB)\u001b[0m\n",
      "\u001b[0m2024/01/17 00:14:48.321943710 Downloading anyio-4.2.0-py3-none-any.whl (85 kB)\u001b[0m\n",
      "\u001b[0m2024/01/17 00:14:48.636082187    ━━━━━━━━━━━━━━━━━━━━━━━━━━━━━━━━━━━━━━━━ 85.5/85.5 kB 242.2 kB/s eta 0:00:00\u001b[0m\n",
      "\u001b[0m2024/01/17 00:14:48.662319709 Using cached asttokens-2.4.1-py2.py3-none-any.whl (27 kB)\u001b[0m\n",
      "\u001b[0m2024/01/17 00:14:48.689356392 Downloading build-1.0.3-py3-none-any.whl (18 kB)\u001b[0m\n",
      "\u001b[0m2024/01/17 00:14:48.921558752 Using cached certifi-2023.11.17-py3-none-any.whl (162 kB)\u001b[0m\n",
      "\u001b[0m2024/01/17 00:14:48.950691424 Using cached charset_normalizer-3.3.2-cp310-cp310-manylinux_2_17_x86_64.manylinux2014_x86_64.whl (142 kB)\u001b[0m\n",
      "\u001b[0m2024/01/17 00:14:48.977504184 Using cached click-8.1.7-py3-none-any.whl (97 kB)\u001b[0m\n",
      "\u001b[0m2024/01/17 00:14:49.004816368 Downloading comm-0.2.1-py3-none-any.whl (7.2 kB)\u001b[0m\n",
      "\u001b[0m2024/01/17 00:14:49.215669713 Using cached debugpy-1.8.0-cp310-cp310-manylinux_2_17_x86_64.manylinux2014_x86_64.whl (3.3 MB)\u001b[0m\n",
      "\u001b[0m2024/01/17 00:14:49.253370208 Using cached exceptiongroup-1.2.0-py3-none-any.whl (16 kB)\u001b[0m\n",
      "\u001b[0m2024/01/17 00:14:49.277652159 Using cached executing-2.0.1-py2.py3-none-any.whl (24 kB)\u001b[0m\n",
      "\u001b[0m2024/01/17 00:14:49.307796704 Downloading fastapi-0.109.0-py3-none-any.whl (92 kB)\u001b[0m\n",
      "\u001b[0m2024/01/17 00:14:49.532347130    ━━━━━━━━━━━━━━━━━━━━━━━━━━━━━━━━━━━━━━━━ 92.0/92.0 kB 370.4 kB/s eta 0:00:00\u001b[0m\n",
      "\u001b[0m2024/01/17 00:14:49.553775485 Using cached fsspec-2023.12.2-py3-none-any.whl (168 kB)\u001b[0m\n",
      "\u001b[0m2024/01/17 00:14:49.586130222 Downloading httpcore-1.0.2-py3-none-any.whl (76 kB)\u001b[0m\n",
      "\u001b[0m2024/01/17 00:14:49.846741255    ━━━━━━━━━━━━━━━━━━━━━━━━━━━━━━━━━━━━━━━━ 76.9/76.9 kB 259.5 kB/s eta 0:00:00\u001b[0m\n",
      "\u001b[0m2024/01/17 00:14:49.870522918 Downloading httpx-0.26.0-py3-none-any.whl (75 kB)\u001b[0m\n",
      "\u001b[0m2024/01/17 00:14:50.034029835    ━━━━━━━━━━━━━━━━━━━━━━━━━━━━━━━━━━━━━━━━ 75.9/75.9 kB 412.1 kB/s eta 0:00:00\u001b[0m\n",
      "\u001b[0m2024/01/17 00:14:50.061033876 Downloading humanize-4.9.0-py3-none-any.whl (126 kB)\u001b[0m\n",
      "\u001b[0m2024/01/17 00:14:50.246048171    ━━━━━━━━━━━━━━━━━━━━━━━━━━━━━━━━━━━━━━━ 126.8/126.8 kB 650.7 kB/s eta 0:00:00\u001b[0m\n",
      "\u001b[0m2024/01/17 00:14:50.270367072 Using cached idna-3.6-py3-none-any.whl (61 kB)\u001b[0m\n",
      "\u001b[0m2024/01/17 00:14:50.300451834 Downloading importlib_metadata-7.0.1-py3-none-any.whl (23 kB)\u001b[0m\n",
      "\u001b[0m2024/01/17 00:14:50.503368348 Downloading importlib_resources-6.1.1-py3-none-any.whl (33 kB)\u001b[0m\n",
      "\u001b[0m2024/01/17 00:14:50.722083280 Downloading ipykernel-6.29.0-py3-none-any.whl (116 kB)\u001b[0m\n",
      "\u001b[0m2024/01/17 00:14:50.978183414    ━━━━━━━━━━━━━━━━━━━━━━━━━━━━━━━━━━━━━━━ 116.1/116.1 kB 422.0 kB/s eta 0:00:00\u001b[0m\n",
      "\u001b[0m2024/01/17 00:14:51.003444509 Downloading ipython-8.20.0-py3-none-any.whl (809 kB)\u001b[0m\n",
      "\u001b[0m2024/01/17 00:14:51.216995107    ━━━━━━━━━━━━━━━━━━━━━━━━━━━━━━━━━━━━━━━━ 809.2/809.2 kB 3.9 MB/s eta 0:00:00\u001b[0m\n",
      "\u001b[0m2024/01/17 00:14:51.254220887 Using cached jedi-0.19.1-py2.py3-none-any.whl (1.6 MB)\u001b[0m\n",
      "\u001b[0m2024/01/17 00:14:51.296154189 Downloading Jinja2-3.1.3-py3-none-any.whl (133 kB)\u001b[0m\n",
      "\u001b[0m2024/01/17 00:14:51.503795670    ━━━━━━━━━━━━━━━━━━━━━━━━━━━━━━━━━━━━━━━ 133.2/133.2 kB 598.3 kB/s eta 0:00:00\u001b[0m\n",
      "\u001b[0m2024/01/17 00:14:51.533752834 Using cached joblib-1.3.2-py3-none-any.whl (302 kB)\u001b[0m\n",
      "\u001b[0m2024/01/17 00:14:51.562734609 Using cached jupyter_client-8.6.0-py3-none-any.whl (105 kB)\u001b[0m\n",
      "\u001b[0m2024/01/17 00:14:51.596035228 Downloading jupyter_core-5.7.1-py3-none-any.whl (28 kB)\u001b[0m\n",
      "\u001b[0m2024/01/17 00:14:51.805974899 Using cached MarkupSafe-2.1.3-cp310-cp310-manylinux_2_17_x86_64.manylinux2014_x86_64.whl (25 kB)\u001b[0m\n",
      "\u001b[0m2024/01/17 00:14:51.833636704 Downloading nest_asyncio-1.5.9-py3-none-any.whl (5.3 kB)\u001b[0m\n",
      "\u001b[0m2024/01/17 00:14:52.037006071 Downloading numpy-1.26.3-cp310-cp310-manylinux_2_17_x86_64.manylinux2014_x86_64.whl (18.2 MB)\u001b[0m\n",
      "\u001b[0m2024/01/17 00:14:52.477036841    ━━━━━━━━━━━━━━━━━━━━━━━━━━━━━━━━━━━━━━━━ 18.2/18.2 MB 26.4 MB/s eta 0:00:00\u001b[0m\n",
      "\u001b[0m2024/01/17 00:14:52.508368440 Using cached packaging-23.2-py3-none-any.whl (53 kB)\u001b[0m\n",
      "\u001b[0m2024/01/17 00:14:52.546772708 Using cached pandas-2.1.4-cp310-cp310-manylinux_2_17_x86_64.manylinux2014_x86_64.whl (12.3 MB)\u001b[0m\n",
      "\u001b[0m2024/01/17 00:14:52.614946082 Using cached pexpect-4.9.0-py2.py3-none-any.whl (63 kB)\u001b[0m\n",
      "\u001b[0m2024/01/17 00:14:52.645591106 Downloading pins-0.8.4-py2.py3-none-any.whl (113 kB)\u001b[0m\n",
      "\u001b[0m2024/01/17 00:14:52.908373638    ━━━━━━━━━━━━━━━━━━━━━━━━━━━━━━━━━━━━━━━ 113.3/113.3 kB 398.7 kB/s eta 0:00:00\u001b[0m\n",
      "\u001b[0m2024/01/17 00:14:52.932615086 Downloading pip_tools-7.3.0-py3-none-any.whl (57 kB)\u001b[0m\n",
      "\u001b[0m2024/01/17 00:14:53.200221693    ━━━━━━━━━━━━━━━━━━━━━━━━━━━━━━━━━━━━━━━━ 57.4/57.4 kB 180.6 kB/s eta 0:00:00\u001b[0m\n",
      "\u001b[0m2024/01/17 00:14:53.234189041 Using cached platformdirs-4.1.0-py3-none-any.whl (17 kB)\u001b[0m\n",
      "\u001b[0m2024/01/17 00:14:53.274364003 Using cached plotly-5.18.0-py3-none-any.whl (15.6 MB)\u001b[0m\n",
      "\u001b[0m2024/01/17 00:14:53.361614643 Using cached prompt_toolkit-3.0.43-py3-none-any.whl (386 kB)\u001b[0m\n",
      "\u001b[0m2024/01/17 00:14:53.389520170 Using cached psutil-5.9.7-cp36-abi3-manylinux_2_12_x86_64.manylinux2010_x86_64.manylinux_2_17_x86_64.manylinux2014_x86_64.whl (285 kB)\u001b[0m\n",
      "\u001b[0m2024/01/17 00:14:53.430023756 Downloading pydantic-2.5.3-py3-none-any.whl (381 kB)\u001b[0m\n",
      "\u001b[0m2024/01/17 00:14:53.685343723    ━━━━━━━━━━━━━━━━━━━━━━━━━━━━━━━━━━━━━━━━ 381.9/381.9 kB 1.5 MB/s eta 0:00:00\u001b[0m\n",
      "\u001b[0m2024/01/17 00:14:53.714290916 Downloading pydantic_core-2.14.6-cp310-cp310-manylinux_2_17_x86_64.manylinux2014_x86_64.whl (2.1 MB)\u001b[0m\n",
      "\u001b[0m2024/01/17 00:14:53.992651925    ━━━━━━━━━━━━━━━━━━━━━━━━━━━━━━━━━━━━━━━━ 2.1/2.1 MB 7.6 MB/s eta 0:00:00\u001b[0m\n",
      "\u001b[0m2024/01/17 00:14:54.016260005 Using cached pygments-2.17.2-py3-none-any.whl (1.2 MB)\u001b[0m\n",
      "\u001b[0m2024/01/17 00:14:54.052521607 Using cached PyJWT-2.8.0-py3-none-any.whl (22 kB)\u001b[0m\n",
      "\u001b[0m2024/01/17 00:14:54.088567282 Using cached pytz-2023.3.post1-py2.py3-none-any.whl (502 kB)\u001b[0m\n",
      "\u001b[0m2024/01/17 00:14:54.123708387 Using cached PyYAML-6.0.1-cp310-cp310-manylinux_2_17_x86_64.manylinux2014_x86_64.whl (705 kB)\u001b[0m\n",
      "\u001b[0m2024/01/17 00:14:54.168844974 Using cached pyzmq-25.1.2-cp310-cp310-manylinux_2_28_x86_64.whl (1.1 MB)\u001b[0m\n",
      "\u001b[0m2024/01/17 00:14:54.202060836 Using cached requests-2.31.0-py3-none-any.whl (62 kB)\u001b[0m\n",
      "\u001b[0m2024/01/17 00:14:54.240730499 Using cached scikit_learn-1.3.2-cp310-cp310-manylinux_2_17_x86_64.manylinux2014_x86_64.whl (10.8 MB)\u001b[0m\n",
      "\u001b[0m2024/01/17 00:14:54.306382569 Using cached scipy-1.11.4-cp310-cp310-manylinux_2_17_x86_64.manylinux2014_x86_64.whl (36.4 MB)\u001b[0m\n",
      "\u001b[0m2024/01/17 00:14:54.451842473 Using cached stack_data-0.6.3-py3-none-any.whl (24 kB)\u001b[0m\n",
      "\u001b[0m2024/01/17 00:14:54.491444295 Downloading starlette-0.35.1-py3-none-any.whl (71 kB)\u001b[0m\n",
      "\u001b[0m2024/01/17 00:14:54.742791920    ━━━━━━━━━━━━━━━━━━━━━━━━━━━━━━━━━━━━━━━━ 71.1/71.1 kB 247.0 kB/s eta 0:00:00\u001b[0m\n",
      "\u001b[0m2024/01/17 00:14:54.764803947 Using cached tenacity-8.2.3-py3-none-any.whl (24 kB)\u001b[0m\n",
      "\u001b[0m2024/01/17 00:14:54.791778606 Using cached threadpoolctl-3.2.0-py3-none-any.whl (15 kB)\u001b[0m\n",
      "\u001b[0m2024/01/17 00:14:54.817316672 Using cached tornado-6.4-cp38-abi3-manylinux_2_5_x86_64.manylinux1_x86_64.manylinux_2_17_x86_64.manylinux2014_x86_64.whl (435 kB)\u001b[0m\n",
      "\u001b[0m2024/01/17 00:14:54.851389960 Downloading traitlets-5.14.1-py3-none-any.whl (85 kB)\u001b[0m\n",
      "\u001b[0m2024/01/17 00:14:55.130788207    ━━━━━━━━━━━━━━━━━━━━━━━━━━━━━━━━━━━━━━━━ 85.4/85.4 kB 272.6 kB/s eta 0:00:00\u001b[0m\n",
      "\u001b[0m2024/01/17 00:14:55.158962698 Using cached typing_extensions-4.9.0-py3-none-any.whl (32 kB)\u001b[0m\n",
      "\u001b[0m2024/01/17 00:14:55.189211226 Downloading tzdata-2023.4-py2.py3-none-any.whl (346 kB)\u001b[0m\n",
      "\u001b[0m2024/01/17 00:14:55.381800534    ━━━━━━━━━━━━━━━━━━━━━━━━━━━━━━━━━━━━━━━━ 346.6/346.6 kB 1.8 MB/s eta 0:00:00\u001b[0m\n",
      "\u001b[0m2024/01/17 00:14:55.406885456 Using cached urllib3-2.1.0-py3-none-any.whl (104 kB)\u001b[0m\n",
      "\u001b[0m2024/01/17 00:14:55.446215995 Downloading uvicorn-0.26.0-py3-none-any.whl (60 kB)\u001b[0m\n",
      "\u001b[0m2024/01/17 00:14:55.656156860    ━━━━━━━━━━━━━━━━━━━━━━━━━━━━━━━━━━━━━━━━ 60.5/60.5 kB 249.9 kB/s eta 0:00:00\u001b[0m\n",
      "\u001b[0m2024/01/17 00:14:55.688807098 Downloading vetiver-0.2.4-py3-none-any.whl (113 kB)\u001b[0m\n",
      "\u001b[0m2024/01/17 00:14:55.869075899    ━━━━━━━━━━━━━━━━━━━━━━━━━━━━━━━━━━━━━━━ 113.2/113.2 kB 585.9 kB/s eta 0:00:00\u001b[0m\n",
      "\u001b[0m2024/01/17 00:14:55.904436394 Downloading wcwidth-0.2.13-py2.py3-none-any.whl (34 kB)\u001b[0m\n",
      "\u001b[0m2024/01/17 00:14:56.134016343 Downloading xxhash-3.4.1-cp310-cp310-manylinux_2_17_x86_64.manylinux2014_x86_64.whl (194 kB)\u001b[0m\n",
      "\u001b[0m2024/01/17 00:14:56.298744249    ━━━━━━━━━━━━━━━━━━━━━━━━━━━━━━━━━━━━━━━━ 194.1/194.1 kB 1.1 MB/s eta 0:00:00\u001b[0m\n",
      "\u001b[0m2024/01/17 00:14:56.327760743 Using cached zipp-3.17.0-py3-none-any.whl (7.4 kB)\u001b[0m\n",
      "\u001b[0m2024/01/17 00:14:56.361490120 Using cached websockets-12.0-cp310-cp310-manylinux_2_5_x86_64.manylinux1_x86_64.manylinux_2_17_x86_64.manylinux2014_x86_64.whl (130 kB)\u001b[0m\n",
      "\u001b[0m2024/01/17 00:14:56.395427808 Using cached aiofiles-23.2.1-py3-none-any.whl (15 kB)\u001b[0m\n",
      "\u001b[0m2024/01/17 00:14:56.432361448 Downloading rsconnect_python-1.21.0-py2.py3-none-any.whl (110 kB)\u001b[0m\n",
      "\u001b[0m2024/01/17 00:14:56.636994047    ━━━━━━━━━━━━━━━━━━━━━━━━━━━━━━━━━━━━━━━ 110.7/110.7 kB 502.5 kB/s eta 0:00:00\u001b[0m\n",
      "\u001b[0m2024/01/17 00:14:59.497731038 Installing collected packages: wcwidth, pytz, pure-eval, ptyprocess, appdirs, zipp, xxhash, websockets, urllib3, tzdata, typing_extensions, traitlets, tornado, tomli, threadpoolctl, tenacity, sniffio, six, semver, pyzmq, PyYAML, python-dotenv, PyJWT, Pygments, psutil, prompt-toolkit, platformdirs, pexpect, parso, packaging, numpy, nest-asyncio, MarkupSafe, joblib, importlib-resources, idna, humanize, h11, fsspec, executing, exceptiongroup, decorator, debugpy, click, charset-normalizer, certifi, annotated-types, aiofiles, wsproto, uvicorn, scipy, rsconnect-python, requests, python-dateutil, pyproject_hooks, pydantic_core, plotly, matplotlib-inline, jupyter_core, Jinja2, jedi, importlib-metadata, httpcore, comm, asttokens, anyio, starlette, stack-data, scikit-learn, pydantic, pandas, jupyter_client, httpx, build, pip-tools, pins, ipython, fastapi, vetiver, ipykernel\u001b[0m\n",
      "\u001b[0m2024/01/17 00:18:43.851792842 Successfully installed Jinja2-3.1.3 MarkupSafe-2.1.3 PyJWT-2.8.0 PyYAML-6.0.1 Pygments-2.17.2 aiofiles-23.2.1 annotated-types-0.6.0 anyio-4.2.0 appdirs-1.4.4 asttokens-2.4.1 build-1.0.3 certifi-2023.11.17 charset-normalizer-3.3.2 click-8.1.7 comm-0.2.1 debugpy-1.8.0 decorator-5.1.1 exceptiongroup-1.2.0 executing-2.0.1 fastapi-0.109.0 fsspec-2023.12.2 h11-0.14.0 httpcore-1.0.2 httpx-0.26.0 humanize-4.9.0 idna-3.6 importlib-metadata-7.0.1 importlib-resources-6.1.1 ipykernel-6.29.0 ipython-8.20.0 jedi-0.19.1 joblib-1.3.2 jupyter_client-8.6.0 jupyter_core-5.7.1 matplotlib-inline-0.1.6 nest-asyncio-1.5.9 numpy-1.26.3 packaging-23.2 pandas-2.1.4 parso-0.8.3 pexpect-4.9.0 pins-0.8.4 pip-tools-7.3.0 platformdirs-4.1.0 plotly-5.18.0 prompt-toolkit-3.0.43 psutil-5.9.7 ptyprocess-0.7.0 pure-eval-0.2.2 pydantic-2.5.3 pydantic_core-2.14.6 pyproject_hooks-1.0.0 python-dateutil-2.8.2 python-dotenv-1.0.0 pytz-2023.3.post1 pyzmq-25.1.2 requests-2.31.0 rsconnect-python-1.21.0 scikit-learn-1.3.2 scipy-1.11.4 semver-2.13.0 six-1.16.0 sniffio-1.3.0 stack-data-0.6.3 starlette-0.35.1 tenacity-8.2.3 threadpoolctl-3.2.0 tomli-2.0.1 tornado-6.4 traitlets-5.14.1 typing_extensions-4.9.0 tzdata-2023.4 urllib3-2.1.0 uvicorn-0.26.0 vetiver-0.2.4 wcwidth-0.2.13 websockets-12.0 wsproto-1.2.0 xxhash-3.4.1 zipp-3.17.0\u001b[0m\n",
      "\u001b[0m2024/01/17 00:18:46.593430582 Packages in the environment: aiofiles==23.2.1, annotated-types==0.6.0, anyio==4.2.0, appdirs==1.4.4, asttokens==2.4.1, build==1.0.3, certifi==2023.11.17, charset-normalizer==3.3.2, click==8.1.7, comm==0.2.1, debugpy==1.8.0, decorator==5.1.1, exceptiongroup==1.2.0, executing==2.0.1, fastapi==0.109.0, fsspec==2023.12.2, h11==0.14.0, httpcore==1.0.2, httpx==0.26.0, humanize==4.9.0, idna==3.6, importlib-metadata==7.0.1, importlib-resources==6.1.1, ipykernel==6.29.0, ipython==8.20.0, jedi==0.19.1, Jinja2==3.1.3, joblib==1.3.2, jupyter_client==8.6.0, jupyter_core==5.7.1, MarkupSafe==2.1.3, matplotlib-inline==0.1.6, nest-asyncio==1.5.9, numpy==1.26.3, packaging==23.2, pandas==2.1.4, parso==0.8.3, pexpect==4.9.0, pins==0.8.4, pip-tools==7.3.0, platformdirs==4.1.0, plotly==5.18.0, prompt-toolkit==3.0.43, psutil==5.9.7, ptyprocess==0.7.0, pure-eval==0.2.2, pydantic==2.5.3, pydantic_core==2.14.6, Pygments==2.17.2, PyJWT==2.8.0, pyproject_hooks==1.0.0, python-dateutil==2.8.2, python-dotenv==1.0.0, pytz==2023.3.post1, PyYAML==6.0.1, pyzmq==25.1.2, requests==2.31.0, rsconnect-python==1.21.0, scikit-learn==1.3.2, scipy==1.11.4, semver==2.13.0, six==1.16.0, sniffio==1.3.0, stack-data==0.6.3, starlette==0.35.1, tenacity==8.2.3, threadpoolctl==3.2.0, tomli==2.0.1, tornado==6.4, traitlets==5.14.1, typing_extensions==4.9.0, tzdata==2023.4, urllib3==2.1.0, uvicorn==0.26.0, vetiver==0.2.4, wcwidth==0.2.13, websockets==12.0, wsproto==1.2.0, xxhash==3.4.1, zipp==3.17.0, \u001b[0m\n",
      "\u001b[0m2024/01/17 00:18:46.594544124 Creating lockfile: python/requirements.txt.lock\u001b[0m\n",
      "\u001b[0mStopped session pings to http://service-f891ba3a-08c5-42a9-b49f-1db57ef6d41a.rstudio-connect:50734\u001b[0m\n",
      "\u001b[0mLaunching FastAPI application...\u001b[0m\n",
      "\u001b[0mDeployment completed successfully.\u001b[0m\n",
      "\u001b[0m\t Dashboard content URL: https://colorado.posit.co/rsc/connect/#/apps/e2cccc2b-b3b7-4267-82ad-262e59ce2e33\u001b[0m\n",
      "\u001b[0m\t Direct content URL: https://colorado.posit.co/rsc/content/e2cccc2b-b3b7-4267-82ad-262e59ce2e33/\u001b[0m\n"
     ]
    }
   ],
   "source": [
    "connect_server = rsconnect.api.RSConnectServer(url = rsc_url, api_key = api_key)\n",
    "\n",
    "# vetiver.deploy_rsconnect(\n",
    "#     connect_server = connect_server, \n",
    "#     board = board, \n",
    "#     pin_name = \"isabel.zimmerman/superbowl_rf\"\n",
    "#     )"
   ]
  },
  {
   "cell_type": "markdown",
   "metadata": {},
   "source": [
    "With the model deployed, we can interact with the API endpoint as if it were a model in memory."
   ]
  },
  {
   "cell_type": "code",
   "execution_count": 15,
   "metadata": {},
   "outputs": [
    {
     "data": {
      "text/html": [
       "<div>\n",
       "<style scoped>\n",
       "    .dataframe tbody tr th:only-of-type {\n",
       "        vertical-align: middle;\n",
       "    }\n",
       "\n",
       "    .dataframe tbody tr th {\n",
       "        vertical-align: top;\n",
       "    }\n",
       "\n",
       "    .dataframe thead th {\n",
       "        text-align: right;\n",
       "    }\n",
       "</style>\n",
       "<table border=\"1\" class=\"dataframe\">\n",
       "  <thead>\n",
       "    <tr style=\"text-align: right;\">\n",
       "      <th></th>\n",
       "      <th>predict</th>\n",
       "    </tr>\n",
       "  </thead>\n",
       "  <tbody>\n",
       "    <tr>\n",
       "      <th>0</th>\n",
       "      <td>452.581548</td>\n",
       "    </tr>\n",
       "    <tr>\n",
       "      <th>1</th>\n",
       "      <td>15054.536775</td>\n",
       "    </tr>\n",
       "    <tr>\n",
       "      <th>2</th>\n",
       "      <td>8830.437135</td>\n",
       "    </tr>\n",
       "    <tr>\n",
       "      <th>3</th>\n",
       "      <td>9872.934486</td>\n",
       "    </tr>\n",
       "    <tr>\n",
       "      <th>4</th>\n",
       "      <td>181.150403</td>\n",
       "    </tr>\n",
       "  </tbody>\n",
       "</table>\n",
       "</div>"
      ],
      "text/plain": [
       "        predict\n",
       "0    452.581548\n",
       "1  15054.536775\n",
       "2   8830.437135\n",
       "3   9872.934486\n",
       "4    181.150403"
      ]
     },
     "execution_count": 15,
     "metadata": {},
     "output_type": "execute_result"
    }
   ],
   "source": [
    "connect_endpoint = vetiver_endpoint(\"https://colorado.posit.co/rsc/superbowl_vetiver_python/predict\")\n",
    "\n",
    "response = vetiver.predict(data = X_test.head(5), endpoint = connect_endpoint)\n",
    "response"
   ]
  },
  {
   "cell_type": "markdown",
   "metadata": {},
   "source": [
    "## Monitoring\n",
    "\n",
    "In both R and Python, vetiver offers helper functions `compute_metrics`, `plot_metrics`, and `pin_metrics` along with a "
   ]
  },
  {
   "cell_type": "code",
   "execution_count": 17,
   "metadata": {},
   "outputs": [
    {
     "data": {
      "text/plain": [
       "'./monitoring_dashboard.qmd'"
      ]
     },
     "execution_count": 17,
     "metadata": {},
     "output_type": "execute_result"
    }
   ],
   "source": [
    "vetiver.monitoring_dashboard()"
   ]
  },
  {
   "cell_type": "markdown",
   "metadata": {},
   "source": []
  }
 ],
 "metadata": {
  "interpreter": {
   "hash": "974018313955b4988b16ea215671657307c8736770f13695d4ded4c5899ccb5a"
  },
  "kernelspec": {
   "display_name": "Python 3.9.11 64-bit ('pydemo')",
   "language": "python",
   "name": "python3"
  },
  "language_info": {
   "codemirror_mode": {
    "name": "ipython",
    "version": 3
   },
   "file_extension": ".py",
   "mimetype": "text/x-python",
   "name": "python",
   "nbconvert_exporter": "python",
   "pygments_lexer": "ipython3",
   "version": "3.10.7"
  },
  "orig_nbformat": 4
 },
 "nbformat": 4,
 "nbformat_minor": 2
}
